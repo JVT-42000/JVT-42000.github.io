{
 "cells": [
  {
   "cell_type": "code",
   "execution_count": 1,
   "metadata": {},
   "outputs": [],
   "source": [
    "%load_ext sql"
   ]
  },
  {
   "cell_type": "code",
   "execution_count": 15,
   "metadata": {},
   "outputs": [],
   "source": [
    "from pathlib import Path\n",
    "from urllib.request import urlretrieve\n",
    "\n",
    "if not Path(\"penguins.csv\").is_file():\n",
    "    urlretrieve(\n",
    "        \"https://raw.githubusercontent.com/mwaskom/seaborn-data/master/penguins.csv\",\n",
    "        \"penguins.csv\",\n",
    "    )"
   ]
  },
  {
   "cell_type": "code",
   "execution_count": 2,
   "metadata": {},
   "outputs": [
    {
     "data": {
      "text/html": [
       "<span style=\"None\">Connecting to &#x27;duckdb://&#x27;</span>"
      ],
      "text/plain": [
       "Connecting to 'duckdb://'"
      ]
     },
     "metadata": {},
     "output_type": "display_data"
    }
   ],
   "source": [
    "%sql duckdb://"
   ]
  },
  {
   "cell_type": "code",
   "execution_count": null,
   "metadata": {},
   "outputs": [
    {
     "data": {
      "text/html": [
       "<span style=\"None\">Connecting and switching to connection &#x27;sqlite:///penguins.csv&#x27;</span>"
      ],
      "text/plain": [
       "Connecting and switching to connection 'sqlite:///penguins.csv'"
      ]
     },
     "metadata": {},
     "output_type": "display_data"
    }
   ],
   "source": [
    "%sql sqlite://"
   ]
  },
  {
   "cell_type": "code",
   "execution_count": 3,
   "metadata": {},
   "outputs": [
    {
     "data": {
      "text/html": [
       "<span style=\"None\">Running query in &#x27;duckdb://&#x27;</span>"
      ],
      "text/plain": [
       "Running query in 'duckdb://'"
      ]
     },
     "metadata": {},
     "output_type": "display_data"
    },
    {
     "data": {
      "text/html": [
       "<table>\n",
       "    <thead>\n",
       "        <tr>\n",
       "            <th>species</th>\n",
       "            <th>island</th>\n",
       "            <th>bill_length_mm</th>\n",
       "            <th>bill_depth_mm</th>\n",
       "            <th>flipper_length_mm</th>\n",
       "            <th>body_mass_g</th>\n",
       "            <th>sex</th>\n",
       "        </tr>\n",
       "    </thead>\n",
       "    <tbody>\n",
       "        <tr>\n",
       "            <td>Adelie</td>\n",
       "            <td>Torgersen</td>\n",
       "            <td>39.1</td>\n",
       "            <td>18.7</td>\n",
       "            <td>181</td>\n",
       "            <td>3750</td>\n",
       "            <td>MALE</td>\n",
       "        </tr>\n",
       "        <tr>\n",
       "            <td>Adelie</td>\n",
       "            <td>Torgersen</td>\n",
       "            <td>39.5</td>\n",
       "            <td>17.4</td>\n",
       "            <td>186</td>\n",
       "            <td>3800</td>\n",
       "            <td>FEMALE</td>\n",
       "        </tr>\n",
       "        <tr>\n",
       "            <td>Adelie</td>\n",
       "            <td>Torgersen</td>\n",
       "            <td>40.3</td>\n",
       "            <td>18.0</td>\n",
       "            <td>195</td>\n",
       "            <td>3250</td>\n",
       "            <td>FEMALE</td>\n",
       "        </tr>\n",
       "    </tbody>\n",
       "</table>"
      ],
      "text/plain": [
       "+---------+-----------+----------------+---------------+-------------------+-------------+--------+\n",
       "| species |   island  | bill_length_mm | bill_depth_mm | flipper_length_mm | body_mass_g |  sex   |\n",
       "+---------+-----------+----------------+---------------+-------------------+-------------+--------+\n",
       "|  Adelie | Torgersen |      39.1      |      18.7     |        181        |     3750    |  MALE  |\n",
       "|  Adelie | Torgersen |      39.5      |      17.4     |        186        |     3800    | FEMALE |\n",
       "|  Adelie | Torgersen |      40.3      |      18.0     |        195        |     3250    | FEMALE |\n",
       "+---------+-----------+----------------+---------------+-------------------+-------------+--------+"
      ]
     },
     "execution_count": 3,
     "metadata": {},
     "output_type": "execute_result"
    }
   ],
   "source": [
    "%sql SELECT * FROM penguins.csv LIMIT 3"
   ]
  },
  {
   "cell_type": "code",
   "execution_count": null,
   "metadata": {},
   "outputs": [],
   "source": []
  }
 ],
 "metadata": {
  "kernelspec": {
   "display_name": "Python 3",
   "language": "python",
   "name": "python3"
  },
  "language_info": {
   "codemirror_mode": {
    "name": "ipython",
    "version": 3
   },
   "file_extension": ".py",
   "mimetype": "text/x-python",
   "name": "python",
   "nbconvert_exporter": "python",
   "pygments_lexer": "ipython3",
   "version": "3.12.5"
  }
 },
 "nbformat": 4,
 "nbformat_minor": 2
}
